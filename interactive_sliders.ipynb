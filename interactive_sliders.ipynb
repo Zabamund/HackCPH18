{
 "cells": [
  {
   "cell_type": "code",
   "execution_count": null,
   "metadata": {
    "collapsed": true
   },
   "outputs": [],
   "source": [
    "import numpy as np\n",
    "import glob\n",
    "from matplotlib import pyplot as plt\n",
    "import pandas as pd\n",
    "import xarray as xr\n",
    "import pyproj as proj\n",
    "from scipy.stats import norm\n",
    "%matplotlib inline\n",
    "\n",
    "def folder2cube(files, size_raster):\n",
    "    base_set = glob.glob(files)\n",
    "    cube = np.zeros(size_raster + (len(base_set),))\n",
    "    for i, model in enumerate(base_set): \n",
    "        cube[:,:,i] = np.loadtxt(model, skiprows = 1).reshape(size_raster)\n",
    "    return cube, len(base_set)\n",
    "\n",
    "\n",
    "size_raster = (250,162)\n"
   ]
  },
  {
   "cell_type": "code",
   "execution_count": null,
   "metadata": {
    "collapsed": true
   },
   "outputs": [],
   "source": [
    "base_cube, base_n = folder2cube('data/Hackaton/BaseSet/MapSimu__*.data',size_raster)\n",
    "top_cube, top_n = folder2cube('data/Hackaton/TopSet/MapSimu__*.data',size_raster)\n"
   ]
  },
  {
   "cell_type": "code",
   "execution_count": null,
   "metadata": {
    "collapsed": true
   },
   "outputs": [],
   "source": [
    "volume_file = 'data/Hackaton/VolumeDistribution/Volumes'\n",
    "\n",
    "vol = pd.read_csv(volume_file, delim_whitespace=True)"
   ]
  },
  {
   "cell_type": "code",
   "execution_count": null,
   "metadata": {
    "collapsed": true
   },
   "outputs": [],
   "source": [
    "ds = xr.Dataset()  \n",
    "\n",
    "X_corner = 390885\n",
    "Y_corner = 7156947\n",
    "dx, dy = 25, 25\n",
    "\n",
    "#top_model = np.min([np.min(base_cube),np.min(top_cube)])\n",
    "#bottom_model = np.max([np.max(base_cube),np.max(top_cube)])\n",
    "\n",
    "top_model = 900\n",
    "bottom_model = 1100\n",
    "dz = 100\n",
    "\n",
    "\n",
    "xx = np.linspace(X_corner, X_corner+size_raster[0]*dx, size_raster[0])\n",
    "yy = np.linspace(Y_corner, Y_corner+size_raster[1]*dy, size_raster[1])\n",
    "zz = np.linspace(bottom_model, top_model, dz)\n",
    "\n",
    "model = np.linspace(0, top_model, base_n)\n",
    "\n",
    "ds.coords['X'] = xx\n",
    "ds.coords['Y'] = yy\n",
    "ds.coords['Z'] = zz\n",
    "ds.coords['MODEL'] = model\n",
    "\n",
    "ds['BASE'] = (('X', 'Y', 'MODEL'), base_cube)\n",
    "ds['TOP'] = (('X', 'Y', 'MODEL'), top_cube)\n"
   ]
  },
  {
   "cell_type": "code",
   "execution_count": null,
   "metadata": {
    "collapsed": true
   },
   "outputs": [],
   "source": [
    "base_mean = ds['BASE'].mean(dim='MODEL')\n",
    "base_std = ds['BASE'].std(dim='MODEL')\n",
    "\n",
    "top_mean = ds['TOP'].mean(dim='MODEL')\n",
    "top_std = ds['TOP'].std(dim='MODEL')\n"
   ]
  },
  {
   "cell_type": "code",
   "execution_count": null,
   "metadata": {},
   "outputs": [],
   "source": [
    "top_cloud = np.zeros(size_raster + (dz,))\n",
    "base_cloud = np.zeros(size_raster + (dz,))\n",
    "\n",
    "for x in range(0,len(xx)):\n",
    "    for y in range(0,len(yy)):\n",
    "        top_cloud[x,y,:] = norm.pdf(zz,top_mean.values[x,y],top_std.values[x,y])\n",
    "\n",
    "for x in range(0,len(xx)):\n",
    "    for y in range(0,len(yy)):\n",
    "        base_cloud[x,y,:] = norm.pdf(zz,base_mean.values[x,y],base_std.values[x,y])\n"
   ]
  },
  {
   "cell_type": "code",
   "execution_count": null,
   "metadata": {},
   "outputs": [],
   "source": [
    "np.save('graham.pkl', top_cloud)\n",
    "top_cloud=[]\n",
    "top_cloud = np.load('graham.pkl.npy')\n",
    "top_cloud.shape"
   ]
  },
  {
   "cell_type": "code",
   "execution_count": null,
   "metadata": {},
   "outputs": [],
   "source": [
    "plt.imshow(top_cloud[:,128,:].T)\n",
    "plt.colorbar()\n",
    "plt.show()\n"
   ]
  },
  {
   "cell_type": "code",
   "execution_count": null,
   "metadata": {},
   "outputs": [],
   "source": [
    "plt.imshow(top_cloud[:,:,80].T)\n",
    "plt.colorbar()\n",
    "plt.show()"
   ]
  },
  {
   "cell_type": "code",
   "execution_count": null,
   "metadata": {},
   "outputs": [],
   "source": [
    "plt.imshow(top_cloud[:,:,35].T)\n",
    "plt.colorbar()\n",
    "plt.show()"
   ]
  },
  {
   "cell_type": "code",
   "execution_count": null,
   "metadata": {},
   "outputs": [],
   "source": [
    "import bokeh\n",
    "\n",
    "from bokeh.plotting import figure, show, output_file\n",
    "from bokeh.models import HoverTool\n",
    "from bokeh.io import output_notebook\n",
    "\n",
    "output_notebook()\n",
    "\n",
    "p = figure(x_range=(0, 250), y_range=(0, 162),\n",
    "           tools=[HoverTool(tooltips=[(\"x\", \"$x\"), (\"y\", \"$y\"), (\"value\", \"@image\")])])\n",
    "\n",
    "# must give a vector of image data for image parameter\n",
    "p.image(image=[top_cloud[:,:,30]], x=0, y=0, dw=250, dh=162, palette=\"Spectral11\")\n",
    "\n",
    "show(p)  # open a browser"
   ]
  },
  {
   "cell_type": "code",
   "execution_count": null,
   "metadata": {},
   "outputs": [],
   "source": [
    "top_cloud.shape"
   ]
  },
  {
   "cell_type": "code",
   "execution_count": null,
   "metadata": {},
   "outputs": [],
   "source": [
    "import holoviews as hv\n",
    "import numpy as np\n",
    "hv.extension('bokeh')\n",
    "\n",
    "ds = hv.Dataset((np.arange(0,100,1), np.linspace(0., 162., 162), np.linspace(0., 250., 250),\n",
    "                top_cloud),\n",
    "                kdims=['depth', 'y', 'x'],\n",
    "                vdims=['z'])\n",
    "\n",
    "type(ds.data), list(ds.data.keys())"
   ]
  },
  {
   "cell_type": "code",
   "execution_count": null,
   "metadata": {},
   "outputs": [],
   "source": [
    "%opts Image(cmap='viridis')\n",
    "%opts Image [height=400 width=700] \n",
    "ds.to(hv.Image, ['x', 'depth']).redim(z=dict(range=(0,0.05))).options(colorbar=True, invert_yaxis=True)"
   ]
  },
  {
   "cell_type": "code",
   "execution_count": null,
   "metadata": {},
   "outputs": [],
   "source": [
    "%opts Image(cmap='viridis')\n",
    "%opts Image [height=400 width=616] \n",
    "ds.to(hv.Image, ['x', 'y']).redim(z=dict(range=(0,0.05))).options(colorbar=True, invert_yaxis=True)"
   ]
  },
  {
   "cell_type": "code",
   "execution_count": null,
   "metadata": {
    "scrolled": true
   },
   "outputs": [],
   "source": [
    "from mpl_toolkits.mplot3d import Axes3D\n",
    "%matplotlib inline\n",
    "i, j, k = np.where(top_cloud > 0.04)\n",
    "fig = plt.figure()\n",
    "ax = fig.add_subplot(111, projection='3d')\n",
    "ax.scatter(i, j, -k, zdir='z', c=(top_cloud[top_cloud > 0.04]*255), alpha=0.02)\n",
    "ax.set_xlim3d(0,250)\n",
    "ax.set_ylim3d(0,162)\n",
    "ax.set_zlim3d(-100,-0)\n",
    "plt.figure(figsize=(8,10));"
   ]
  },
  {
   "cell_type": "code",
   "execution_count": null,
   "metadata": {
    "collapsed": true
   },
   "outputs": [],
   "source": []
  }
 ],
 "metadata": {
  "kernelspec": {
   "display_name": "Python 3",
   "language": "python",
   "name": "python3"
  },
  "language_info": {
   "codemirror_mode": {
    "name": "ipython",
    "version": 3
   },
   "file_extension": ".py",
   "mimetype": "text/x-python",
   "name": "python",
   "nbconvert_exporter": "python",
   "pygments_lexer": "ipython3",
   "version": "3.6.1"
  }
 },
 "nbformat": 4,
 "nbformat_minor": 2
}
